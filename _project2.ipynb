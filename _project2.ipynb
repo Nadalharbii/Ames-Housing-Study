{
 "cells": [
  {
   "cell_type": "markdown",
   "metadata": {},
   "source": [
    "# Project 2 - Housing Data\n",
    "### Wesley Bosse - LA\n",
    "###### 2/14/18"
   ]
  },
  {
   "cell_type": "markdown",
   "metadata": {},
   "source": []
  },
  {
   "cell_type": "code",
   "execution_count": 1,
   "metadata": {
    "collapsed": true
   },
   "outputs": [],
   "source": [
    "import numpy as np\n",
    "import pandas as pd\n",
    "import scipy.stats as stats\n",
    "import matplotlib.pyplot as plt\n",
    "import seaborn as sns\n",
    "import math\n",
    "\n",
    "from sklearn.model_selection import train_test_split, cross_val_score, GridSearchCV, RandomizedSearchCV\n",
    "from sklearn.linear_model import ElasticNetCV, LassoCV, RidgeCV, Lasso\n",
    "from sklearn.neighbors import KNeighborsClassifier\n",
    "from sklearn import preprocessing\n",
    "from sklearn.preprocessing import StandardScaler, PolynomialFeatures, FunctionTransformer, Imputer\n",
    "from sklearn.pipeline import Pipeline, FeatureUnion # These ones are new!\n",
    "\n",
    "sns.set_style('darkgrid')\n",
    "\n",
    "%matplotlib inline"
   ]
  },
  {
   "cell_type": "markdown",
   "metadata": {},
   "source": [
    "# EDA"
   ]
  },
  {
   "cell_type": "code",
   "execution_count": 2,
   "metadata": {
    "collapsed": true
   },
   "outputs": [],
   "source": [
    "#read in the data\n",
    "train = pd.read_csv('train.csv')\n",
    "test = pd.read_csv('test.csv')"
   ]
  },
  {
   "cell_type": "code",
   "execution_count": 3,
   "metadata": {},
   "outputs": [
    {
     "data": {
      "text/plain": [
       "(2051, 82)"
      ]
     },
     "execution_count": 3,
     "metadata": {},
     "output_type": "execute_result"
    }
   ],
   "source": [
    "train.shape"
   ]
  },
  {
   "cell_type": "code",
   "execution_count": 4,
   "metadata": {},
   "outputs": [
    {
     "data": {
      "text/plain": [
       "(879, 80)"
      ]
     },
     "execution_count": 4,
     "metadata": {},
     "output_type": "execute_result"
    }
   ],
   "source": [
    "test.shape"
   ]
  },
  {
   "cell_type": "code",
   "execution_count": 5,
   "metadata": {},
   "outputs": [
    {
     "name": "stderr",
     "output_type": "stream",
     "text": [
      "/Users/Wesley/anaconda3/lib/python3.6/site-packages/pandas/core/indexing.py:179: SettingWithCopyWarning: \n",
      "A value is trying to be set on a copy of a slice from a DataFrame\n",
      "\n",
      "See the caveats in the documentation: http://pandas.pydata.org/pandas-docs/stable/indexing.html#indexing-view-versus-copy\n",
      "  self._setitem_with_indexer(indexer, value)\n"
     ]
    }
   ],
   "source": [
    "def data_cleaning(df):\n",
    "    for column in df.columns:\n",
    "        df.rename(columns={column: column.replace(' ', '')}, inplace=True)\n",
    "        \n",
    "    df['BsmtQual'].loc[df['BsmtQual'].isnull()] = 'NA'\n",
    "    df['BsmtCond'].loc[df['BsmtCond'].isnull()] = 'NA'\n",
    "    df['BsmtFinType1'].loc[df['BsmtFinType1'].isnull()] = 'NA'\n",
    "    df['BsmtFinType2'].loc[df['BsmtFinType2'].isnull()] = 'NA'\n",
    "    df['MiscFeature'].loc[df['MiscFeature'].isnull()] = 'NA'\n",
    "    df['GarageType'].loc[df['GarageArea']==0] = 0\n",
    "\n",
    "    df['GarageQual'].loc[df['GarageArea']==0] = 0\n",
    "    df['GarageCond'].loc[df['GarageArea']==0] = 0\n",
    "\n",
    "    df['GarageQual'].loc[df['GarageArea']!=0] = df['GarageQual'].value_counts().sort_values().index[-1]\n",
    "    df['GarageCond'].loc[df['GarageArea']!=0] = df['GarageQual'].value_counts().sort_values().index[-1]\n",
    "        \n",
    "data_cleaning(train)\n",
    "data_cleaning(test)"
   ]
  },
  {
   "cell_type": "code",
   "execution_count": 6,
   "metadata": {},
   "outputs": [
    {
     "data": {
      "text/plain": [
       "Id                  0\n",
       "PID                 0\n",
       "LotFrontage       330\n",
       "LotArea             0\n",
       "Street              0\n",
       "Alley            1908\n",
       "LotShape            0\n",
       "LandContour         0\n",
       "Utilities           0\n",
       "LotConfig           0\n",
       "LandSlope           0\n",
       "Neighborhood        0\n",
       "Condition1          0\n",
       "Condition2          0\n",
       "BldgType            0\n",
       "HouseStyle          0\n",
       "OverallQual         0\n",
       "OverallCond         0\n",
       "YearBuilt           0\n",
       "YearRemod/Add       0\n",
       "RoofStyle           0\n",
       "RoofMatl            0\n",
       "Exterior1st         0\n",
       "Exterior2nd         0\n",
       "MasVnrType         22\n",
       "MasVnrArea         22\n",
       "ExterQual           0\n",
       "ExterCond           0\n",
       "Foundation          0\n",
       "BsmtQual            0\n",
       "                 ... \n",
       "BedroomAbvGr        0\n",
       "KitchenAbvGr        0\n",
       "KitchenQual         0\n",
       "TotRmsAbvGrd        0\n",
       "Functional          0\n",
       "Fireplaces          0\n",
       "FireplaceQu       998\n",
       "GarageType          0\n",
       "GarageYrBlt       113\n",
       "GarageFinish      113\n",
       "GarageCars          0\n",
       "GarageArea          0\n",
       "GarageQual          0\n",
       "GarageCond          0\n",
       "PavedDrive          0\n",
       "WoodDeckSF          0\n",
       "OpenPorchSF         0\n",
       "EnclosedPorch       0\n",
       "3SsnPorch           0\n",
       "ScreenPorch         0\n",
       "PoolArea            0\n",
       "PoolQC           2039\n",
       "Fence            1650\n",
       "MiscFeature         0\n",
       "MiscVal             0\n",
       "MoSold              0\n",
       "YrSold              0\n",
       "SaleType            0\n",
       "SaleCondition       0\n",
       "SalePrice           0\n",
       "Length: 80, dtype: int64"
      ]
     },
     "execution_count": 6,
     "metadata": {},
     "output_type": "execute_result"
    }
   ],
   "source": [
    "train.drop(['MSSubClass', 'MSZoning', ], axis=1, inplace=True)\n",
    "train = train.dropna(subset=['BsmtQual', 'BsmtFinSF1', 'BsmtFinSF2', 'TotalBsmtSF', 'BsmtFullBath', 'GarageCars','BsmtFinType2', 'Electrical'])\n",
    "train.isnull().sum()"
   ]
  },
  {
   "cell_type": "code",
   "execution_count": null,
   "metadata": {
    "collapsed": true
   },
   "outputs": [],
   "source": []
  },
  {
   "cell_type": "code",
   "execution_count": 7,
   "metadata": {
    "collapsed": true
   },
   "outputs": [],
   "source": [
    "# drop null rows from training data\n"
   ]
  },
  {
   "cell_type": "code",
   "execution_count": 8,
   "metadata": {
    "collapsed": true
   },
   "outputs": [],
   "source": [
    "def dummie_non_numeric(df):\n",
    "    non_numeric_cols = list(set(df.columns)-set(df._get_numeric_data().sum().index))\n",
    "    dummies = pd.get_dummies(df[non_numeric_cols])\n",
    "    new = pd.concat([df, dummies], axis=1)\n",
    "    return new\n",
    "\n",
    "train = dummie_non_numeric(train)\n",
    "test = dummie_non_numeric(test)"
   ]
  },
  {
   "cell_type": "code",
   "execution_count": 9,
   "metadata": {},
   "outputs": [
    {
     "data": {
      "text/plain": [
       "['Neighborhood_NridgHt',\n",
       " 'Neighborhood_NoRidge',\n",
       " 'Neighborhood_StoneBr',\n",
       " 'Neighborhood_Somerst',\n",
       " 'Neighborhood_Timber',\n",
       " 'Neighborhood_Veenker',\n",
       " 'Neighborhood_CollgCr',\n",
       " 'Neighborhood_Crawfor',\n",
       " 'Neighborhood_ClearCr',\n",
       " 'Neighborhood_GrnHill',\n",
       " 'Neighborhood_NWAmes',\n",
       " 'Neighborhood_Blmngtn',\n",
       " 'Neighborhood_Gilbert',\n",
       " 'Neighborhood_SawyerW',\n",
       " 'Neighborhood_Greens',\n",
       " 'Neighborhood_Landmrk',\n",
       " 'Neighborhood_Blueste',\n",
       " 'Neighborhood_Mitchel',\n",
       " 'Neighborhood_NPkVill',\n",
       " 'Neighborhood_SWISU',\n",
       " 'Neighborhood_BrDale',\n",
       " 'Neighborhood_MeadowV',\n",
       " 'Neighborhood_BrkSide',\n",
       " 'Neighborhood_Sawyer',\n",
       " 'Neighborhood_Edwards',\n",
       " 'Neighborhood_NAmes',\n",
       " 'Neighborhood_IDOTRR',\n",
       " 'Neighborhood_OldTown']"
      ]
     },
     "execution_count": 9,
     "metadata": {},
     "output_type": "execute_result"
    }
   ],
   "source": [
    "corr = train.corr()\n",
    "sp_corr = corr['SalePrice'].sort_values(ascending=False)\n",
    "\n",
    "neighborhood_index = []\n",
    "fixed_neighborhood_index = []\n",
    "for index in sp_corr.index:\n",
    "    if index[:12] == 'Neighborhood':\n",
    "        neighborhood_index.append(index)\n",
    "        fixed_neighborhood_index.append(index[13:])\n",
    "    \n",
    "neighborhood_index"
   ]
  },
  {
   "cell_type": "code",
   "execution_count": 10,
   "metadata": {},
   "outputs": [
    {
     "data": {
      "text/plain": [
       "{'Blmngtn': 0.94287805360940002,\n",
       " 'Blueste': 0.91348522759483008,\n",
       " 'BrDale': 0.87316028133939094,\n",
       " 'BrkSide': 0.85223532410726088,\n",
       " 'ClearCr': 0.95926478043197949,\n",
       " 'CollgCr': 0.97710034035191129,\n",
       " 'Crawfor': 0.96276799578356098,\n",
       " 'Edwards': 0.82606899968658021,\n",
       " 'Gilbert': 0.94231606482846586,\n",
       " 'Greens': 0.93026354481909834,\n",
       " 'GrnHill': 0.95114947148512174,\n",
       " 'IDOTRR': 0.82037395326426865,\n",
       " 'Landmrk': 0.92096964640365131,\n",
       " 'MeadowV': 0.86393811674962062,\n",
       " 'Mitchel': 0.90745781136282655,\n",
       " 'NAmes': 0.82041538955152615,\n",
       " 'NPkVill': 0.90068530663242075,\n",
       " 'NWAmes': 0.94880336839481361,\n",
       " 'NoRidge': 1.0891268816837283,\n",
       " 'NridgHt': 1.2100000000000002,\n",
       " 'OldTown': 0.81000000000000005,\n",
       " 'SWISU': 0.8851965134438895,\n",
       " 'Sawyer': 0.85144317447982187,\n",
       " 'SawyerW': 0.93803079229932285,\n",
       " 'Somerst': 1.0183136825762102,\n",
       " 'StoneBr': 1.0850546748094829,\n",
       " 'Timber': 0.99773767179725847,\n",
       " 'Veenker': 0.97764907895550757}"
      ]
     },
     "execution_count": 10,
     "metadata": {},
     "output_type": "execute_result"
    }
   ],
   "source": [
    "min_max_scaler = preprocessing.MinMaxScaler()\n",
    "nc_scaled = min_max_scaler.fit_transform(pd.DataFrame(sp_corr[neighborhood_index]))\n",
    "nc_normalized = pd.DataFrame(nc_scaled, index=sp_corr[neighborhood_index].index)\n",
    "neighborhood_map = dict(zip(fixed_neighborhood_index, ((nc_normalized[0]+4.5)/5)**2))\n",
    "neighborhood_map"
   ]
  },
  {
   "cell_type": "code",
   "execution_count": 11,
   "metadata": {
    "collapsed": true
   },
   "outputs": [],
   "source": [
    "train.replace({'Neighborhood':neighborhood_map},inplace=True)\n",
    "test.replace({'Neighborhood':neighborhood_map},inplace=True)"
   ]
  },
  {
   "cell_type": "code",
   "execution_count": 12,
   "metadata": {
    "collapsed": true
   },
   "outputs": [],
   "source": [
    "# drop outliers from training data when house size > 4000sqft\n",
    "train = train.drop(train.loc[train.GrLivArea > 4000].index)\n",
    "train = train[np.abs(train.SalePrice-train.SalePrice.mean())<=(3*train.SalePrice.std())]"
   ]
  },
  {
   "cell_type": "markdown",
   "metadata": {},
   "source": [
    "# Feature Engineering"
   ]
  },
  {
   "cell_type": "markdown",
   "metadata": {},
   "source": [
    "House Size Score, House Quality Score, "
   ]
  },
  {
   "cell_type": "code",
   "execution_count": 13,
   "metadata": {},
   "outputs": [
    {
     "data": {
      "text/plain": [
       "Id                    0\n",
       "PID                   0\n",
       "MSSubClass            0\n",
       "MSZoning              0\n",
       "LotFrontage         160\n",
       "LotArea               0\n",
       "Street                0\n",
       "Alley               821\n",
       "LotShape              0\n",
       "LandContour           0\n",
       "Utilities             0\n",
       "LotConfig             0\n",
       "LandSlope             0\n",
       "Neighborhood          0\n",
       "Condition1            0\n",
       "Condition2            0\n",
       "BldgType              0\n",
       "HouseStyle            0\n",
       "OverallQual           0\n",
       "OverallCond           0\n",
       "YearBuilt             0\n",
       "YearRemod/Add         0\n",
       "RoofStyle             0\n",
       "RoofMatl              0\n",
       "Exterior1st           0\n",
       "Exterior2nd           0\n",
       "MasVnrType            1\n",
       "MasVnrArea            1\n",
       "ExterQual             0\n",
       "ExterCond             0\n",
       "                   ... \n",
       "MasVnrType_None       0\n",
       "MasVnrType_Stone      0\n",
       "BsmtQual_Ex           0\n",
       "BsmtQual_Fa           0\n",
       "BsmtQual_Gd           0\n",
       "BsmtQual_NA           0\n",
       "BsmtQual_Po           0\n",
       "BsmtQual_TA           0\n",
       "Heating_Floor         0\n",
       "Heating_GasA          0\n",
       "Heating_GasW          0\n",
       "Heating_Grav          0\n",
       "Fence_GdPrv           0\n",
       "Fence_GdWo            0\n",
       "Fence_MnPrv           0\n",
       "Fence_MnWw            0\n",
       "SaleType_COD          0\n",
       "SaleType_CWD          0\n",
       "SaleType_Con          0\n",
       "SaleType_ConLD        0\n",
       "SaleType_ConLI        0\n",
       "SaleType_ConLw        0\n",
       "SaleType_New          0\n",
       "SaleType_Oth          0\n",
       "SaleType_VWD          0\n",
       "SaleType_WD           0\n",
       "Condition2_Feedr      0\n",
       "Condition2_Norm       0\n",
       "Condition2_PosA       0\n",
       "Condition2_PosN       0\n",
       "Length: 316, dtype: int64"
      ]
     },
     "execution_count": 13,
     "metadata": {},
     "output_type": "execute_result"
    }
   ],
   "source": [
    "test.isnull().sum()"
   ]
  },
  {
   "cell_type": "code",
   "execution_count": 14,
   "metadata": {
    "collapsed": true
   },
   "outputs": [],
   "source": [
    "def feature_engineer(df):\n",
    "    df['QualityAdjuster'] = (df['Neighborhood']+1)/2 * ((df['OverallQual']**2))\n",
    "\n",
    "    df['AdjustedSize'] = \\\n",
    "        df['GrLivArea'] * df['QualityAdjuster']\n",
    "\n",
    "    df['BathroomScore'] = \\\n",
    "        (df['FullBath']*2 + df['HalfBath']) * df['QualityAdjuster']\n",
    "\n",
    "    df['GarageScore'] = \\\n",
    "        df['GarageCars'] * df['GarageArea'] \n",
    "    \n",
    "    df['AdjGarageScore'] = \\\n",
    "        df['GarageScore'] * df['QualityAdjuster']\n",
    "    \n",
    "feature_engineer(train)\n",
    "feature_engineer(test)"
   ]
  },
  {
   "cell_type": "code",
   "execution_count": 24,
   "metadata": {},
   "outputs": [
    {
     "data": {
      "text/plain": [
       "<matplotlib.axes._subplots.AxesSubplot at 0x1a130903c8>"
      ]
     },
     "execution_count": 24,
     "metadata": {},
     "output_type": "execute_result"
    },
    {
     "data": {
      "image/png": "[encoded data removed]",
      "text/plain": [
       "<matplotlib.figure.Figure at 0x1a1308c4a8>"
      ]
     },
     "metadata": {},
     "output_type": "display_data"
    }
   ],
   "source": [
    "new_features = ['SalePrice','Neighborhood', 'OverallQual','GrLivArea','FullBath','HalfBath','GarageCars','QualityAdjuster', 'AdjGarageScore', 'BathroomScore', 'AdjustedSize']\n",
    "corr = train[new_features].corr()\n",
    "\n",
    "sns.heatmap(corr, \n",
    "        xticklabels=corr.columns,\n",
    "        yticklabels=corr.columns)"
   ]
  },
  {
   "cell_type": "markdown",
   "metadata": {},
   "source": [
    "# Regression"
   ]
  },
  {
   "cell_type": "code",
   "execution_count": 16,
   "metadata": {},
   "outputs": [
    {
     "name": "stdout",
     "output_type": "stream",
     "text": [
      "{'alpha': 0.13600000000000001}\n",
      "0.800681877816\n"
     ]
    }
   ],
   "source": [
    "features = ['QualityAdjuster', 'AdjustedSize', 'BathroomScore', 'AdjGarageScore', 'GrLivArea','GarageType_Detchd', 'MasVnrType_None', 'GarageFinish_Unf', 'BsmtQual_TA', 'KitchenQual_TA', 'ExterQual_TA']\n",
    "X = train[features]\n",
    "y = train['SalePrice']\n",
    "\n",
    "X_train, X_validate, y_train, y_validate = train_test_split(X, y, random_state=10)\n",
    "\n",
    "ss = StandardScaler()\n",
    "ss.fit(X_train)\n",
    "X_train_scaled = ss.transform(X_train)\n",
    "X_validate_scaled = ss.transform(X_validate)\n",
    "\n",
    "lasso = Lasso()\n",
    "cross_val_score(lasso, X_train_scaled, y_train).mean()\n",
    "\n",
    "params = {\n",
    "    'alpha': np.arange(.001, .15, .0025)\n",
    "}\n",
    "gs = GridSearchCV(lasso, params)\n",
    "gs.fit(X_train_scaled, y_train)\n",
    "print(gs.best_params_)\n",
    "print(gs.score(X_validate_scaled, y_validate))\n",
    "\n",
    "X_test = test[features]\n",
    "X_test_scaled = ss.transform(X_test)\n",
    "\n",
    "predictions = gs.predict(X_test_scaled)\n",
    "\n",
    "test['SalePrice'] = predictions\n",
    "\n",
    "test[['Id', 'SalePrice']].to_csv('reg_submission.csv', index=False)\n"
   ]
  },
  {
   "cell_type": "markdown",
   "metadata": {},
   "source": [
    "# Classification"
   ]
  },
  {
   "cell_type": "code",
   "execution_count": 17,
   "metadata": {
    "collapsed": true
   },
   "outputs": [],
   "source": [
    "# train = pd.read_csv('train.csv')\n",
    "# test = pd.read_csv('test.csv')\n",
    "\n",
    "# test._get_numeric_data().isnull().sum()\n",
    "\n",
    "# train = train.dropna(subset=['Yr Sold', 'Pool Area', 'Garage Cars', 'Fireplaces', 'Half Bath', 'Full Bath', 'Gr Liv Area', 'Total Bsmt SF', 'Overall Cond', 'Overall Qual', 'Lot Area', 'Bsmt Half Bath', 'Bsmt Full Bath'])\n",
    "\n",
    "# train._get_numeric_data().isnull().sum()\n",
    "\n",
    "# train['Sale Condition'].value_counts()"
   ]
  },
  {
   "cell_type": "code",
   "execution_count": 18,
   "metadata": {},
   "outputs": [
    {
     "name": "stdout",
     "output_type": "stream",
     "text": [
      "{'n_neighbors': 6, 'p': 2, 'weights': 'uniform'}\n",
      "0.936507936508\n"
     ]
    },
    {
     "data": {
      "text/html": [
       "<div>\n",
       "<style>\n",
       "    .dataframe thead tr:only-child th {\n",
       "        text-align: right;\n",
       "    }\n",
       "\n",
       "    .dataframe thead th {\n",
       "        text-align: left;\n",
       "    }\n",
       "\n",
       "    .dataframe tbody tr th {\n",
       "        vertical-align: top;\n",
       "    }\n",
       "</style>\n",
       "<table border=\"1\" class=\"dataframe\">\n",
       "  <thead>\n",
       "    <tr style=\"text-align: right;\">\n",
       "      <th></th>\n",
       "      <th>Id</th>\n",
       "      <th>Sale Condition</th>\n",
       "    </tr>\n",
       "  </thead>\n",
       "  <tbody>\n",
       "    <tr>\n",
       "      <th>0</th>\n",
       "      <td>2658</td>\n",
       "      <td>0</td>\n",
       "    </tr>\n",
       "    <tr>\n",
       "      <th>1</th>\n",
       "      <td>2718</td>\n",
       "      <td>0</td>\n",
       "    </tr>\n",
       "    <tr>\n",
       "      <th>2</th>\n",
       "      <td>2414</td>\n",
       "      <td>0</td>\n",
       "    </tr>\n",
       "    <tr>\n",
       "      <th>3</th>\n",
       "      <td>1989</td>\n",
       "      <td>0</td>\n",
       "    </tr>\n",
       "    <tr>\n",
       "      <th>4</th>\n",
       "      <td>625</td>\n",
       "      <td>0</td>\n",
       "    </tr>\n",
       "  </tbody>\n",
       "</table>\n",
       "</div>"
      ],
      "text/plain": [
       "     Id  Sale Condition\n",
       "0  2658               0\n",
       "1  2718               0\n",
       "2  2414               0\n",
       "3  1989               0\n",
       "4   625               0"
      ]
     },
     "execution_count": 18,
     "metadata": {},
     "output_type": "execute_result"
    }
   ],
   "source": [
    "\n",
    "\n",
    "encoded_sale = {\n",
    "    'Abnorml': 1,\n",
    "    'Normal': 0,\n",
    "    'Partial': 0,\n",
    "    'Family':0,\n",
    "    'Alloca':0,\n",
    "    'AdjLand':0\n",
    "}\n",
    "\n",
    "train['SaleConditionEncoded'] = train['SaleCondition'].map(encoded_sale)\n",
    "\n",
    "features = ['QualityAdjuster', 'AdjustedSize', 'BathroomScore', 'AdjGarageScore', 'GrLivArea','GarageType_Detchd', 'MasVnrType_None', 'GarageFinish_Unf', 'BsmtQual_TA', 'KitchenQual_TA', 'ExterQual_TA']\n",
    "X = train[features]\n",
    "y = train['SaleConditionEncoded']\n",
    "\n",
    "X_train, X_validate, y_train, y_validate = train_test_split(X, y, random_state=1, stratify=y)\n",
    "\n",
    "ss = StandardScaler()\n",
    "ss.fit(X_train)\n",
    "X_train_scaled = ss.transform(X_train)\n",
    "X_validate_scaled = ss.transform(X_validate)\n",
    "\n",
    "knn = KNeighborsClassifier()\n",
    "cross_val_score(knn, X_train_scaled, y_train).mean()\n",
    "\n",
    "params = {\n",
    "    'n_neighbors': range(5,30),\n",
    "    'weights': ['uniform', 'distance'],\n",
    "    'p': [1,2]\n",
    "}\n",
    "gs = GridSearchCV(knn, params)\n",
    "gs.fit(X_train_scaled, y_train)\n",
    "print(gs.best_params_)\n",
    "print(gs.score(X_validate_scaled, y_validate))\n",
    "\n",
    "X_test = test[features]\n",
    "X_test_scaled = ss.transform(X_test)\n",
    "\n",
    "predictions = gs.predict(X_test_scaled)\n",
    "\n",
    "test['Sale Condition'] = predictions\n",
    "\n",
    "test[['Id', 'Sale Condition']].to_csv('classification_submission.csv', index=False)\n",
    "\n",
    "df = pd.read_csv('classification_submission.csv')\n",
    "df.head()\n",
    "\n"
   ]
  },
  {
   "cell_type": "markdown",
   "metadata": {
    "collapsed": true
   },
   "source": [
    "# Visualizations"
   ]
  },
  {
   "cell_type": "code",
   "execution_count": 27,
   "metadata": {},
   "outputs": [
    {
     "data": {
      "text/plain": [
       "(2013, 338)"
      ]
     },
     "execution_count": 27,
     "metadata": {},
     "output_type": "execute_result"
    }
   ],
   "source": [
    "train.shape"
   ]
  },
  {
   "cell_type": "markdown",
   "metadata": {},
   "source": [
    "# Scraping"
   ]
  },
  {
   "cell_type": "code",
   "execution_count": 33,
   "metadata": {},
   "outputs": [
    {
     "data": {
      "text/plain": [
       "[]"
      ]
     },
     "execution_count": 33,
     "metadata": {},
     "output_type": "execute_result"
    }
   ],
   "source": [
    "import requests\n",
    "from bs4 import BeautifulSoup\n",
    "\n",
    "house_data = []\n",
    "house_url_list = []\n",
    "starting_url = 'https://www.zillow.com/ames-ia/sold/'\n",
    "def scrape_area(url, iteration_counter):\n",
    "    iteration_counter += 1\n",
    "    res = requests.get(url)\n",
    "    links = BeautifulSoup(res.content, 'html.parser').findAll('a', {'class': 'zsg-photo-card-overlay-link'})\n",
    "    next_url = starting_url + '{}_p/'.format(iteration_counter)\n",
    "    [house_url_list.append(starting_url + link.attrs.get('href')) for link in links]\n",
    "    \n",
    "    if iteration_counter <= 2:\n",
    "        return scrape_area(next_url, iteration_counter)\n",
    "    else:\n",
    "        return house_url_list\n",
    "\n",
    "def scrape_houses(url_list):\n",
    "    missed_url_list = []\n",
    "    for house in url_list:\n",
    "            house_row = []\n",
    "            soup = BeautifulSoup(requests.get(house).content, 'html.parser')\n",
    "            details = soup.findAll('span', {'class': 'hdp-fact-value'})\n",
    "            \n",
    "            [house_row.append(detail.text) for detail in details]\n",
    "            \n",
    "            if house_row != []:\n",
    "                house_row.append(house)\n",
    "                house_data.append(house_row)\n",
    "            else:\n",
    "                missed_url_list.append(house)\n",
    "                \n",
    "    if len(missed_url_list) == 0:\n",
    "        return house_data\n",
    "    else:\n",
    "        return scrape_houses(missed_url_list)\n",
    "            \n",
    "scrape_houses(scrape_area(starting_url, 1))"
   ]
  },
  {
   "cell_type": "markdown",
   "metadata": {},
   "source": [
    "# Modeling scraped data"
   ]
  },
  {
   "cell_type": "code",
   "execution_count": null,
   "metadata": {
    "collapsed": true
   },
   "outputs": [],
   "source": [
    "\n",
    "\n",
    "features = ['QualityAdjuster', 'AdjustedSize', 'BathroomScore', 'AdjGarageScore', 'GrLivArea','GarageType_Detchd', 'MasVnrType_None', 'GarageFinish_Unf', 'BsmtQual_TA', 'KitchenQual_TA', 'ExterQual_TA']\n",
    "X = train[features]\n",
    "y = train['SalePrice']\n",
    "\n",
    "X_train, X_validate, y_train, y_validate = train_test_split(X, y, random_state=10)\n",
    "\n",
    "ss = StandardScaler()\n",
    "ss.fit(X_train)\n",
    "X_train_scaled = ss.transform(X_train)\n",
    "X_validate_scaled = ss.transform(X_validate)\n",
    "\n",
    "lasso = Lasso()\n",
    "cross_val_score(lasso, X_train_scaled, y_train).mean()\n",
    "\n",
    "params = {\n",
    "    'alpha': np.arange(.001, .15, .0025)\n",
    "}\n",
    "gs = GridSearchCV(lasso, params)\n",
    "gs.fit(X_train_scaled, y_train)\n",
    "print(gs.best_params_)\n",
    "print(gs.score(X_validate_scaled, y_validate))"
   ]
  },
  {
   "cell_type": "code",
   "execution_count": null,
   "metadata": {
    "collapsed": true
   },
   "outputs": [],
   "source": []
  }
 ],
 "metadata": {
  "kernelspec": {
   "display_name": "Python 3",
   "language": "python",
   "name": "python3"
  },
  "language_info": {
   "codemirror_mode": {
    "name": "ipython",
    "version": 3
   },
   "file_extension": ".py",
   "mimetype": "text/x-python",
   "name": "python",
   "nbconvert_exporter": "python",
   "pygments_lexer": "ipython3",
   "version": "3.6.3"
  }
 },
 "nbformat": 4,
 "nbformat_minor": 2
}
